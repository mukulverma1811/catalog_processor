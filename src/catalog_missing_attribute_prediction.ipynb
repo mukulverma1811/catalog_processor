{
 "metadata": {
  "language_info": {
   "codemirror_mode": {
    "name": "ipython",
    "version": 3
   },
   "file_extension": ".py",
   "mimetype": "text/x-python",
   "name": "python",
   "nbconvert_exporter": "python",
   "pygments_lexer": "ipython3",
   "version": "3.8.5"
  },
  "orig_nbformat": 2,
  "kernelspec": {
   "name": "python3",
   "display_name": "Python 3",
   "language": "python"
  }
 },
 "nbformat": 4,
 "nbformat_minor": 2,
 "cells": [
  {
   "cell_type": "code",
   "execution_count": 1,
   "metadata": {},
   "outputs": [],
   "source": [
    "import pickle"
   ]
  },
  {
   "cell_type": "code",
   "execution_count": 2,
   "metadata": {},
   "outputs": [],
   "source": [
    "import pandas as pd\n",
    "\n",
    "# data transformation\n",
    "from sklearn.model_selection import train_test_split\n",
    "from sklearn.preprocessing import LabelEncoder\n",
    "from sklearn.preprocessing import MultiLabelBinarizer\n",
    "from sklearn.feature_extraction.text import TfidfVectorizer\n",
    "\n",
    "# binary relevance\n",
    "from sklearn.multiclass import OneVsRestClassifier\n",
    "from sklearn.multioutput import MultiOutputClassifier\n",
    "\n",
    "# classification models\n",
    "from sklearn.linear_model import LogisticRegression\n",
    "from xgboost import XGBClassifier\n",
    "from sklearn.svm import LinearSVC\n",
    "from sklearn.naive_bayes import MultinomialNB\n",
    "\n",
    "# performance metric\n",
    "from sklearn.metrics import f1_score\n",
    "\n",
    "# model pipeline\n",
    "from sklearn.pipeline import Pipeline\n",
    "from sklearn.base import BaseEstimator\n",
    "from sklearn.compose import ColumnTransformer \n",
    "\n",
    "# text processing library\n",
    "# from text_processing import TextProcessing\n",
    "\n",
    "# class TextProcessor(BaseEstimator):\n",
    "\n",
    "#     def __init__(self, text_preprocessing_model, text_column):\n",
    "#         self.text_column = text_column\n",
    "#         self.text_preprocessing_model = text_preprocessing_model\n",
    "\n",
    "#     def fit(self, documents, y=None):\n",
    "#         return self\n",
    "\n",
    "#     def transform(self, x_dataset):\n",
    "#         x_dataset['cleaned_text'] = x_dataset[self.text_column].apply(lambda x: self.text_preprocessing_model.clean_text(x))\n",
    "#         return x_dataset\n",
    "import sister\n",
    "\n",
    "class SentenceEmbedding():\n",
    "\n",
    "    def __init__(self, embedding_type = None):\n",
    "        # if embedding_type == 'bert':\n",
    "        #     self.sentence_embedding = sister.BertEmbedding(lang=\"en\")\n",
    "        # else:\n",
    "        #     self.sentence_embedding = sister.MeanEmbedding(lang=\"en\")\n",
    "        if embedding_type == 'bert':\n",
    "            self.sentence_embedding = sentence_embedding\n",
    "        else:\n",
    "            self.sentence_embedding = sentence_embedding_bert\n",
    "\n",
    "    def get_sentence_embedding(self, sentence):\n",
    "        if type(sentence) == str:\n",
    "            return self.sentence_embedding(sentence)\n",
    "        else:\n",
    "            return [self.sentence_embedding(str(sent)) for sent in list(sentence)]\n",
    "\n",
    "class TextVectorizer(BaseEstimator):\n",
    "\n",
    "    def __init__(self, text_column, vectorizer_algorithm, embedding_type = None):\n",
    "        self.text_column = text_column\n",
    "        self.vectorizer_algorithm = vectorizer_algorithm\n",
    "        self.vectorizer = None\n",
    "        self.sentence_embedding = SentenceEmbedding(embedding_type) if vectorizer_algorithm == 'sentence_embeddings' else None\n",
    "\n",
    "    def fit(self, x_dataset, y=None):\n",
    "        if self.vectorizer_algorithm == 'count_vectorizer':\n",
    "            pass\n",
    "        elif self.vectorizer_algorithm == 'tfidf_vectorizer':\n",
    "            self.vectorizer = TfidfVectorizer()\n",
    "            self.vectorizer.fit(x_dataset)\n",
    "        elif self.vectorizer_algorithm == 'sentence_embeddings':\n",
    "            pass\n",
    "        else:\n",
    "            raise Exception(f'invalid vectorizer_algorithm: {vectorizer_algorithm}')\n",
    "        return self\n",
    "\n",
    "    def transform(self, x_dataset):\n",
    "        if self.vectorizer_algorithm == 'count_vectorizer':\n",
    "            pass\n",
    "        elif self.vectorizer_algorithm == 'tfidf_vectorizer':\n",
    "            x_dataset = self.vectorizer.transform(x_dataset)\n",
    "        elif self.vectorizer_algorithm == 'sentence_embeddings':\n",
    "            self.sentence_embedding.get_sentence_embedding(x_dataset)\n",
    "        else:\n",
    "            raise Exception(f'invalid vectorizer_algorithm: {vectorizer_algorithm}')\n",
    "        return x_dataset\n",
    "\n",
    "class TextClassification():\n",
    "\n",
    "    def __init__(self, data, text_column, label_column, classification_type, model_algorithm, vectorizer_algorithm):\n",
    "        \n",
    "        # assigning params to instance variable\n",
    "        self.data = data\n",
    "        self.text_column = text_column\n",
    "        self.label_column = label_column\n",
    "        self.classification_type = classification_type\n",
    "        self.model_algorithm = model_algorithm\n",
    "        self.vectorizer_algorithm = vectorizer_algorithm\n",
    "        \n",
    "        # self.text_preprocessing_model = text_preprocessing_model\n",
    "\n",
    "        # process data\n",
    "        self.process_data()\n",
    "\n",
    "        #building pipeline\n",
    "        self._build_model_pipeline()\n",
    "\n",
    "    def process_data(self,):\n",
    "        \n",
    "        self.data = self.data[[self.text_column, self.label_column]]\n",
    "        \n",
    "        # transforming target label\n",
    "        if self.classification_type == 'multi-class':\n",
    "            self.encoder = LabelEncoder()\n",
    "            self.data[self.label_column] = self.encoder.fit_transform(self.data[self.label_column])\n",
    "        else:\n",
    "            self.encoder = MultiLabelBinarizer()\n",
    "            self.data[self.label_column] = self.encoder.fit_transform(self.data[self.label_column])\n",
    "\n",
    "        # splitting of training and test data\n",
    "        self.train_x, self.test_x, self.train_y, self.test_y = train_test_split(self.data[self.text_column], self.data[self.label_column], test_size=0.2, shuffle=True, random_state=1)\n",
    "\n",
    "    # building end to end pipeline\n",
    "    def _build_model_pipeline(self,):\n",
    "\n",
    "        pipeline_steps = list()\n",
    "        pipeline_steps.append(('text_vectorizer', TextVectorizer(self.text_column, self.vectorizer_algorithm)))\n",
    "        # pipeline_steps.append(('column_transformation', self._load_column_transformer()))\n",
    "\n",
    "        if self.model_algorithm == 'LR' or self.model_algorithm == None:\n",
    "            pipeline_steps.append(('LogisticRegression', OneVsRestClassifier(LogisticRegression())))\n",
    "\n",
    "        elif self.model_algorithm == 'NB':\n",
    "            pipeline_steps.append(('MultinomialNB', OneVsRestClassifier(MultinomialNB())))\n",
    "\n",
    "        elif self.model_algorithm == 'SVC':\n",
    "            pipeline_steps.append(('LinearSVC', OneVsRestClassifier(LinearSVC())))\n",
    "\n",
    "        elif self.model_algorithm == 'XGB':\n",
    "            pipeline_steps.append(('XGBClassifier', OneVsRestClassifier(XGBClassifier(verbosity = 0))))\n",
    "\n",
    "        self.model_pipeline = Pipeline(steps=pipeline_steps)\n",
    "\n",
    "    # pipeline component for transforming any columns in input dataframe\n",
    "    def _load_column_transformer(self,):\n",
    "        return None\n",
    "\n",
    "    # training pipeline\n",
    "    def train_pipeline(self,):\n",
    "        self.model_pipeline.fit(self.train_x, self.train_y)\n",
    "\n",
    "    # evaluating pipeline\n",
    "    def evaluate_pipeline(self,):\n",
    "        y_pred = self.model_pipeline.predict(self.test_x)\n",
    "        metric_score = f1_score(self.test_y, y_pred, average=\"micro\")\n",
    "        print(f'F1 score for {self.model_algorithm}: {metric_score}')\n",
    "\n",
    "    # prediction using trained pipeline\n",
    "    def predict(self, input_text):\n",
    "        input_text = [input_text]\n",
    "        prediction = self.model_pipeline.predict(input_text)\n",
    "        return self.encoder.inverse_transform(prediction)\n"
   ]
  },
  {
   "source": [
    "### loading model"
   ],
   "cell_type": "markdown",
   "metadata": {}
  },
  {
   "cell_type": "code",
   "execution_count": 3,
   "metadata": {},
   "outputs": [],
   "source": [
    "model_path = '/Users/mukul4.verma/Documents/workspace/catalog_indexer/src/models/classification_pipelines.pkl'\n",
    "with open(model_path, 'rb') as file:\n",
    "    model = pickle.load(file)"
   ]
  },
  {
   "cell_type": "code",
   "execution_count": 4,
   "metadata": {},
   "outputs": [
    {
     "output_type": "execute_result",
     "data": {
      "text/plain": [
       "{'New_level1_LR': <__main__.TextClassification at 0x1107ee280>,\n",
       " 'New_level1_NB': <__main__.TextClassification at 0x12e80d070>,\n",
       " 'New_level1_SVC': <__main__.TextClassification at 0x12e8e3880>,\n",
       " 'New_level2_LR': <__main__.TextClassification at 0x12e9ae1f0>,\n",
       " 'New_level2_NB': <__main__.TextClassification at 0x12f1e97c0>,\n",
       " 'New_level2_SVC': <__main__.TextClassification at 0x12f4b2b50>,\n",
       " 'New_level3_LR': <__main__.TextClassification at 0x12f71cd00>,\n",
       " 'New_level3_NB': <__main__.TextClassification at 0x12fb909d0>,\n",
       " 'New_level3_SVC': <__main__.TextClassification at 0x12ffa9a00>,\n",
       " 'Valued_level2_LR': <__main__.TextClassification at 0x1302e4df0>,\n",
       " 'Valued_level2_NB': <__main__.TextClassification at 0x1304553a0>,\n",
       " 'Valued_level2_SVC': <__main__.TextClassification at 0x1305d4220>}"
      ]
     },
     "metadata": {},
     "execution_count": 4
    }
   ],
   "source": [
    "model"
   ]
  },
  {
   "source": [
    "### loading catalog"
   ],
   "cell_type": "markdown",
   "metadata": {}
  },
  {
   "cell_type": "code",
   "execution_count": 5,
   "metadata": {},
   "outputs": [
    {
     "output_type": "execute_result",
     "data": {
      "text/plain": [
       "(121775, 14)"
      ]
     },
     "metadata": {},
     "execution_count": 5
    }
   ],
   "source": [
    "import pandas as pd\n",
    "catalog = pd.read_csv(\"/Users/mukul4.verma/Documents/workspace/catalog_indexer/data/jiomart/raw/catalog_cleaned.csv\")\n",
    "catalog.shape"
   ]
  },
  {
   "cell_type": "code",
   "execution_count": 6,
   "metadata": {},
   "outputs": [
    {
     "output_type": "execute_result",
     "data": {
      "text/plain": [
       "        Unnamed: 0  productid  productskuid  \\\n",
       "0                0  100026392    10030996.0   \n",
       "1                1  100145952    10157693.0   \n",
       "2                2  100139524    10151265.0   \n",
       "3                3  100000074    10000117.0   \n",
       "4                4  100088833    10101294.0   \n",
       "...            ...        ...           ...   \n",
       "121770      121770  100028200    10033308.0   \n",
       "121771      121771  100003253    10003851.0   \n",
       "121772      121772  100028067    10033140.0   \n",
       "121773      121773  100147561    10159302.0   \n",
       "121774      121774  100048236    10055946.0   \n",
       "\n",
       "                                         New Product Name Quantity New_level1  \\\n",
       "0                                24 mantra organic cloves     50 g     masala   \n",
       "1                                         3 ply face mask   10 pcs        NaN   \n",
       "2       command white l plastic utility hook 1 hook 2 ...       3M       home   \n",
       "3                     a and w diet root beer aged vanilla   355 ml        NaN   \n",
       "4           armr 100 herbal blackberry antihangover drink    60 ml        NaN   \n",
       "...                                                   ...      ...        ...   \n",
       "121770  wonderland foods premium chaat masala flavoure...    100 g     masala   \n",
       "121771                          zed candy mini jawbreaker     35 g        NaN   \n",
       "121772                                     zen tofu pouch    200 g     dummy1   \n",
       "121773               irin stainless steel agarbatti stand      NaN        NaN   \n",
       "121774                                        masala pori     90 g     snacks   \n",
       "\n",
       "               New_level2      Valued_level2                 New_level3  \\\n",
       "0        spices & masalas   spices & masalas               whole spices   \n",
       "1                   masks                NaN                 face masks   \n",
       "2        home improvement                NaN                        NaN   \n",
       "3             soft drinks        soft drinks              aerated drink   \n",
       "4                     NaN                NaN  over the counter remedies   \n",
       "...                   ...                ...                        ...   \n",
       "121770  dry fruits & nuts  dry fruits & nuts               dried fruits   \n",
       "121771            candies                NaN                        NaN   \n",
       "121772             dummy2             dummy2                     dummy3   \n",
       "121773        pooja needs        pooja needs    other pooja accessories   \n",
       "121774             snacks             snacks                    namkeen   \n",
       "\n",
       "               brandname  orig_score  aggr_score  \\\n",
       "0              24 Mantra         0.0         0.0   \n",
       "1                Netplay         0.0         0.0   \n",
       "2                     3M         0.0         0.0   \n",
       "3                  A & W         0.0         0.0   \n",
       "4                   ARMR         0.0         0.0   \n",
       "...                  ...         ...         ...   \n",
       "121770  Wonderland Foods         0.0         0.0   \n",
       "121771   JAWBREAKER Sour         0.0         0.0   \n",
       "121772               Zen         0.0         0.0   \n",
       "121773              Irin         0.0         0.0   \n",
       "121774           Lalli's         0.0         0.0   \n",
       "\n",
       "                                          processed_title  \\\n",
       "0                                 24 mantra organic clove   \n",
       "1                                         3 ply face mask   \n",
       "2       command white l plastic utility hook 1 hook 2 ...   \n",
       "3                      a and w diet root beer age vanilla   \n",
       "4           armr 100 herbal blackberry antihangover drink   \n",
       "...                                                   ...   \n",
       "121770  wonderland food premium chaat masala flavour p...   \n",
       "121771                          zed candy mini jawbreaker   \n",
       "121772                                     zen tofu pouch   \n",
       "121773                irin stainles steel agarbatti stand   \n",
       "121774                                        masala pori   \n",
       "\n",
       "                                    processed_title_final  \n",
       "0                                    mantra organic clove  \n",
       "1                                           ply face mask  \n",
       "2           command white plastic utility hook hook strip  \n",
       "3                          and diet root beer age vanilla  \n",
       "4               armr herbal blackberry antihangover drink  \n",
       "...                                                   ...  \n",
       "121770  wonderland food premium chaat masala flavour p...  \n",
       "121771                          zed candy mini jawbreaker  \n",
       "121772                                     zen tofu pouch  \n",
       "121773                irin stainles steel agarbatti stand  \n",
       "121774                                        masala pori  \n",
       "\n",
       "[121775 rows x 14 columns]"
      ],
      "text/html": "<div>\n<style scoped>\n    .dataframe tbody tr th:only-of-type {\n        vertical-align: middle;\n    }\n\n    .dataframe tbody tr th {\n        vertical-align: top;\n    }\n\n    .dataframe thead th {\n        text-align: right;\n    }\n</style>\n<table border=\"1\" class=\"dataframe\">\n  <thead>\n    <tr style=\"text-align: right;\">\n      <th></th>\n      <th>Unnamed: 0</th>\n      <th>productid</th>\n      <th>productskuid</th>\n      <th>New Product Name</th>\n      <th>Quantity</th>\n      <th>New_level1</th>\n      <th>New_level2</th>\n      <th>Valued_level2</th>\n      <th>New_level3</th>\n      <th>brandname</th>\n      <th>orig_score</th>\n      <th>aggr_score</th>\n      <th>processed_title</th>\n      <th>processed_title_final</th>\n    </tr>\n  </thead>\n  <tbody>\n    <tr>\n      <th>0</th>\n      <td>0</td>\n      <td>100026392</td>\n      <td>10030996.0</td>\n      <td>24 mantra organic cloves</td>\n      <td>50 g</td>\n      <td>masala</td>\n      <td>spices &amp; masalas</td>\n      <td>spices &amp; masalas</td>\n      <td>whole spices</td>\n      <td>24 Mantra</td>\n      <td>0.0</td>\n      <td>0.0</td>\n      <td>24 mantra organic clove</td>\n      <td>mantra organic clove</td>\n    </tr>\n    <tr>\n      <th>1</th>\n      <td>1</td>\n      <td>100145952</td>\n      <td>10157693.0</td>\n      <td>3 ply face mask</td>\n      <td>10 pcs</td>\n      <td>NaN</td>\n      <td>masks</td>\n      <td>NaN</td>\n      <td>face masks</td>\n      <td>Netplay</td>\n      <td>0.0</td>\n      <td>0.0</td>\n      <td>3 ply face mask</td>\n      <td>ply face mask</td>\n    </tr>\n    <tr>\n      <th>2</th>\n      <td>2</td>\n      <td>100139524</td>\n      <td>10151265.0</td>\n      <td>command white l plastic utility hook 1 hook 2 ...</td>\n      <td>3M</td>\n      <td>home</td>\n      <td>home improvement</td>\n      <td>NaN</td>\n      <td>NaN</td>\n      <td>3M</td>\n      <td>0.0</td>\n      <td>0.0</td>\n      <td>command white l plastic utility hook 1 hook 2 ...</td>\n      <td>command white plastic utility hook hook strip</td>\n    </tr>\n    <tr>\n      <th>3</th>\n      <td>3</td>\n      <td>100000074</td>\n      <td>10000117.0</td>\n      <td>a and w diet root beer aged vanilla</td>\n      <td>355 ml</td>\n      <td>NaN</td>\n      <td>soft drinks</td>\n      <td>soft drinks</td>\n      <td>aerated drink</td>\n      <td>A &amp; W</td>\n      <td>0.0</td>\n      <td>0.0</td>\n      <td>a and w diet root beer age vanilla</td>\n      <td>and diet root beer age vanilla</td>\n    </tr>\n    <tr>\n      <th>4</th>\n      <td>4</td>\n      <td>100088833</td>\n      <td>10101294.0</td>\n      <td>armr 100 herbal blackberry antihangover drink</td>\n      <td>60 ml</td>\n      <td>NaN</td>\n      <td>NaN</td>\n      <td>NaN</td>\n      <td>over the counter remedies</td>\n      <td>ARMR</td>\n      <td>0.0</td>\n      <td>0.0</td>\n      <td>armr 100 herbal blackberry antihangover drink</td>\n      <td>armr herbal blackberry antihangover drink</td>\n    </tr>\n    <tr>\n      <th>...</th>\n      <td>...</td>\n      <td>...</td>\n      <td>...</td>\n      <td>...</td>\n      <td>...</td>\n      <td>...</td>\n      <td>...</td>\n      <td>...</td>\n      <td>...</td>\n      <td>...</td>\n      <td>...</td>\n      <td>...</td>\n      <td>...</td>\n      <td>...</td>\n    </tr>\n    <tr>\n      <th>121770</th>\n      <td>121770</td>\n      <td>100028200</td>\n      <td>10033308.0</td>\n      <td>wonderland foods premium chaat masala flavoure...</td>\n      <td>100 g</td>\n      <td>masala</td>\n      <td>dry fruits &amp; nuts</td>\n      <td>dry fruits &amp; nuts</td>\n      <td>dried fruits</td>\n      <td>Wonderland Foods</td>\n      <td>0.0</td>\n      <td>0.0</td>\n      <td>wonderland food premium chaat masala flavour p...</td>\n      <td>wonderland food premium chaat masala flavour p...</td>\n    </tr>\n    <tr>\n      <th>121771</th>\n      <td>121771</td>\n      <td>100003253</td>\n      <td>10003851.0</td>\n      <td>zed candy mini jawbreaker</td>\n      <td>35 g</td>\n      <td>NaN</td>\n      <td>candies</td>\n      <td>NaN</td>\n      <td>NaN</td>\n      <td>JAWBREAKER Sour</td>\n      <td>0.0</td>\n      <td>0.0</td>\n      <td>zed candy mini jawbreaker</td>\n      <td>zed candy mini jawbreaker</td>\n    </tr>\n    <tr>\n      <th>121772</th>\n      <td>121772</td>\n      <td>100028067</td>\n      <td>10033140.0</td>\n      <td>zen tofu pouch</td>\n      <td>200 g</td>\n      <td>dummy1</td>\n      <td>dummy2</td>\n      <td>dummy2</td>\n      <td>dummy3</td>\n      <td>Zen</td>\n      <td>0.0</td>\n      <td>0.0</td>\n      <td>zen tofu pouch</td>\n      <td>zen tofu pouch</td>\n    </tr>\n    <tr>\n      <th>121773</th>\n      <td>121773</td>\n      <td>100147561</td>\n      <td>10159302.0</td>\n      <td>irin stainless steel agarbatti stand</td>\n      <td>NaN</td>\n      <td>NaN</td>\n      <td>pooja needs</td>\n      <td>pooja needs</td>\n      <td>other pooja accessories</td>\n      <td>Irin</td>\n      <td>0.0</td>\n      <td>0.0</td>\n      <td>irin stainles steel agarbatti stand</td>\n      <td>irin stainles steel agarbatti stand</td>\n    </tr>\n    <tr>\n      <th>121774</th>\n      <td>121774</td>\n      <td>100048236</td>\n      <td>10055946.0</td>\n      <td>masala pori</td>\n      <td>90 g</td>\n      <td>snacks</td>\n      <td>snacks</td>\n      <td>snacks</td>\n      <td>namkeen</td>\n      <td>Lalli's</td>\n      <td>0.0</td>\n      <td>0.0</td>\n      <td>masala pori</td>\n      <td>masala pori</td>\n    </tr>\n  </tbody>\n</table>\n<p>121775 rows × 14 columns</p>\n</div>"
     },
     "metadata": {},
     "execution_count": 6
    }
   ],
   "source": [
    "catalog"
   ]
  },
  {
   "source": [
    "### predicting missing attributes"
   ],
   "cell_type": "markdown",
   "metadata": {}
  },
  {
   "cell_type": "code",
   "execution_count": 7,
   "metadata": {},
   "outputs": [],
   "source": [
    "from text_processing import TextProcessing\n",
    "from load_config import config"
   ]
  },
  {
   "cell_type": "code",
   "execution_count": 8,
   "metadata": {},
   "outputs": [],
   "source": [
    "tp = TextProcessing()"
   ]
  },
  {
   "cell_type": "code",
   "execution_count": 9,
   "metadata": {},
   "outputs": [],
   "source": [
    "def get_missing_attribute(model, text, label):\n",
    "    if type(text) == str and (type(label) != str or len(label) < 1 or 'dummy'  in label):\n",
    "        # text = tp.clean_text(str(text))\n",
    "        return model.predict(text)[0]\n",
    "    return label\n",
    "\n",
    "# def get_missing_attribute(model, text, label):\n",
    "#     if (type(label) != str or len(label) < 1 or 'dummy'  in label):\n",
    "#         # text = tp.clean_text(str(text))\n",
    "#         return model.predict(text)[0]\n",
    "#     return label"
   ]
  },
  {
   "cell_type": "code",
   "execution_count": 10,
   "metadata": {},
   "outputs": [],
   "source": [
    "domain_config = config['jiomart_autosuggest']"
   ]
  },
  {
   "cell_type": "code",
   "execution_count": 29,
   "metadata": {},
   "outputs": [],
   "source": [
    "# temp_catalog = catalog.iloc[60:80]\n",
    "temp_catalog = catalog"
   ]
  },
  {
   "cell_type": "code",
   "execution_count": 30,
   "metadata": {},
   "outputs": [
    {
     "output_type": "execute_result",
     "data": {
      "text/plain": [
       "   Unnamed: 0  productid  productskuid  \\\n",
       "0           0  100026392    10030996.0   \n",
       "1           1  100145952    10157693.0   \n",
       "2           2  100139524    10151265.0   \n",
       "3           3  100000074    10000117.0   \n",
       "4           4  100088833    10101294.0   \n",
       "\n",
       "                                    New Product Name Quantity New_level1  \\\n",
       "0                           24 mantra organic cloves     50 g     masala   \n",
       "1                                    3 ply face mask   10 pcs        NaN   \n",
       "2  command white l plastic utility hook 1 hook 2 ...       3M       home   \n",
       "3                a and w diet root beer aged vanilla   355 ml        NaN   \n",
       "4      armr 100 herbal blackberry antihangover drink    60 ml        NaN   \n",
       "\n",
       "         New_level2     Valued_level2                 New_level3  brandname  \\\n",
       "0  spices & masalas  spices & masalas               whole spices  24 Mantra   \n",
       "1             masks               NaN                 face masks    Netplay   \n",
       "2  home improvement               NaN                        NaN         3M   \n",
       "3       soft drinks       soft drinks              aerated drink      A & W   \n",
       "4               NaN               NaN  over the counter remedies       ARMR   \n",
       "\n",
       "   orig_score  aggr_score                                    processed_title  \\\n",
       "0         0.0         0.0                            24 mantra organic clove   \n",
       "1         0.0         0.0                                    3 ply face mask   \n",
       "2         0.0         0.0  command white l plastic utility hook 1 hook 2 ...   \n",
       "3         0.0         0.0                 a and w diet root beer age vanilla   \n",
       "4         0.0         0.0      armr 100 herbal blackberry antihangover drink   \n",
       "\n",
       "                           processed_title_final  \n",
       "0                           mantra organic clove  \n",
       "1                                  ply face mask  \n",
       "2  command white plastic utility hook hook strip  \n",
       "3                 and diet root beer age vanilla  \n",
       "4      armr herbal blackberry antihangover drink  "
      ],
      "text/html": "<div>\n<style scoped>\n    .dataframe tbody tr th:only-of-type {\n        vertical-align: middle;\n    }\n\n    .dataframe tbody tr th {\n        vertical-align: top;\n    }\n\n    .dataframe thead th {\n        text-align: right;\n    }\n</style>\n<table border=\"1\" class=\"dataframe\">\n  <thead>\n    <tr style=\"text-align: right;\">\n      <th></th>\n      <th>Unnamed: 0</th>\n      <th>productid</th>\n      <th>productskuid</th>\n      <th>New Product Name</th>\n      <th>Quantity</th>\n      <th>New_level1</th>\n      <th>New_level2</th>\n      <th>Valued_level2</th>\n      <th>New_level3</th>\n      <th>brandname</th>\n      <th>orig_score</th>\n      <th>aggr_score</th>\n      <th>processed_title</th>\n      <th>processed_title_final</th>\n    </tr>\n  </thead>\n  <tbody>\n    <tr>\n      <th>0</th>\n      <td>0</td>\n      <td>100026392</td>\n      <td>10030996.0</td>\n      <td>24 mantra organic cloves</td>\n      <td>50 g</td>\n      <td>masala</td>\n      <td>spices &amp; masalas</td>\n      <td>spices &amp; masalas</td>\n      <td>whole spices</td>\n      <td>24 Mantra</td>\n      <td>0.0</td>\n      <td>0.0</td>\n      <td>24 mantra organic clove</td>\n      <td>mantra organic clove</td>\n    </tr>\n    <tr>\n      <th>1</th>\n      <td>1</td>\n      <td>100145952</td>\n      <td>10157693.0</td>\n      <td>3 ply face mask</td>\n      <td>10 pcs</td>\n      <td>NaN</td>\n      <td>masks</td>\n      <td>NaN</td>\n      <td>face masks</td>\n      <td>Netplay</td>\n      <td>0.0</td>\n      <td>0.0</td>\n      <td>3 ply face mask</td>\n      <td>ply face mask</td>\n    </tr>\n    <tr>\n      <th>2</th>\n      <td>2</td>\n      <td>100139524</td>\n      <td>10151265.0</td>\n      <td>command white l plastic utility hook 1 hook 2 ...</td>\n      <td>3M</td>\n      <td>home</td>\n      <td>home improvement</td>\n      <td>NaN</td>\n      <td>NaN</td>\n      <td>3M</td>\n      <td>0.0</td>\n      <td>0.0</td>\n      <td>command white l plastic utility hook 1 hook 2 ...</td>\n      <td>command white plastic utility hook hook strip</td>\n    </tr>\n    <tr>\n      <th>3</th>\n      <td>3</td>\n      <td>100000074</td>\n      <td>10000117.0</td>\n      <td>a and w diet root beer aged vanilla</td>\n      <td>355 ml</td>\n      <td>NaN</td>\n      <td>soft drinks</td>\n      <td>soft drinks</td>\n      <td>aerated drink</td>\n      <td>A &amp; W</td>\n      <td>0.0</td>\n      <td>0.0</td>\n      <td>a and w diet root beer age vanilla</td>\n      <td>and diet root beer age vanilla</td>\n    </tr>\n    <tr>\n      <th>4</th>\n      <td>4</td>\n      <td>100088833</td>\n      <td>10101294.0</td>\n      <td>armr 100 herbal blackberry antihangover drink</td>\n      <td>60 ml</td>\n      <td>NaN</td>\n      <td>NaN</td>\n      <td>NaN</td>\n      <td>over the counter remedies</td>\n      <td>ARMR</td>\n      <td>0.0</td>\n      <td>0.0</td>\n      <td>armr 100 herbal blackberry antihangover drink</td>\n      <td>armr herbal blackberry antihangover drink</td>\n    </tr>\n  </tbody>\n</table>\n</div>"
     },
     "metadata": {},
     "execution_count": 30
    }
   ],
   "source": [
    "temp_catalog.head()"
   ]
  },
  {
   "cell_type": "code",
   "execution_count": 31,
   "metadata": {},
   "outputs": [
    {
     "output_type": "stream",
     "name": "stderr",
     "text": [
      "Dask Apply: 100%|██████████| 16/16 [23:56<00:00, 89.79s/it] \n",
      "Dask Apply: 100%|██████████| 16/16 [11:19<00:00, 42.49s/it]\n",
      "Dask Apply:   0%|          | 0/16 [8:34:21<?, ?it/s]\n"
     ]
    },
    {
     "output_type": "error",
     "ename": "KeyboardInterrupt",
     "evalue": "",
     "traceback": [
      "\u001b[0;31m---------------------------------------------------------------------------\u001b[0m",
      "\u001b[0;31mValueError\u001b[0m                                Traceback (most recent call last)",
      "\u001b[0;32m~/.local/share/virtualenvs/co-occurrence-gucGsh7Y/lib/python3.8/site-packages/swifter/swifter.py\u001b[0m in \u001b[0;36mapply\u001b[0;34m(self, func, axis, raw, result_type, args, **kwds)\u001b[0m\n\u001b[1;32m    341\u001b[0m                 \u001b[0msample_df\u001b[0m \u001b[0;34m=\u001b[0m \u001b[0msample\u001b[0m\u001b[0;34m.\u001b[0m\u001b[0mapply\u001b[0m\u001b[0;34m(\u001b[0m\u001b[0mfunc\u001b[0m\u001b[0;34m,\u001b[0m \u001b[0maxis\u001b[0m\u001b[0;34m=\u001b[0m\u001b[0maxis\u001b[0m\u001b[0;34m,\u001b[0m \u001b[0mraw\u001b[0m\u001b[0;34m=\u001b[0m\u001b[0mraw\u001b[0m\u001b[0;34m,\u001b[0m \u001b[0mresult_type\u001b[0m\u001b[0;34m=\u001b[0m\u001b[0mresult_type\u001b[0m\u001b[0;34m,\u001b[0m \u001b[0margs\u001b[0m\u001b[0;34m=\u001b[0m\u001b[0margs\u001b[0m\u001b[0;34m,\u001b[0m \u001b[0;34m**\u001b[0m\u001b[0mkwds\u001b[0m\u001b[0;34m)\u001b[0m\u001b[0;34m\u001b[0m\u001b[0;34m\u001b[0m\u001b[0m\n\u001b[0;32m--> 342\u001b[0;31m                 self._validate_apply(\n\u001b[0m\u001b[1;32m    343\u001b[0m                     \u001b[0mnp\u001b[0m\u001b[0;34m.\u001b[0m\u001b[0marray_equal\u001b[0m\u001b[0;34m(\u001b[0m\u001b[0msample_df\u001b[0m\u001b[0;34m,\u001b[0m \u001b[0mtmp_df\u001b[0m\u001b[0;34m)\u001b[0m \u001b[0;34m&\u001b[0m \u001b[0;34m(\u001b[0m\u001b[0msample_df\u001b[0m\u001b[0;34m.\u001b[0m\u001b[0mshape\u001b[0m \u001b[0;34m==\u001b[0m \u001b[0mtmp_df\u001b[0m\u001b[0;34m.\u001b[0m\u001b[0mshape\u001b[0m\u001b[0;34m)\u001b[0m\u001b[0;34m,\u001b[0m\u001b[0;34m\u001b[0m\u001b[0;34m\u001b[0m\u001b[0m\n",
      "\u001b[0;32m~/.local/share/virtualenvs/co-occurrence-gucGsh7Y/lib/python3.8/site-packages/swifter/base.py\u001b[0m in \u001b[0;36m_validate_apply\u001b[0;34m(expr, error_message)\u001b[0m\n\u001b[1;32m     47\u001b[0m         \u001b[0;32mif\u001b[0m \u001b[0;32mnot\u001b[0m \u001b[0mexpr\u001b[0m\u001b[0;34m:\u001b[0m\u001b[0;34m\u001b[0m\u001b[0;34m\u001b[0m\u001b[0m\n\u001b[0;32m---> 48\u001b[0;31m             \u001b[0;32mraise\u001b[0m \u001b[0mValueError\u001b[0m\u001b[0;34m(\u001b[0m\u001b[0merror_message\u001b[0m\u001b[0;34m)\u001b[0m\u001b[0;34m\u001b[0m\u001b[0;34m\u001b[0m\u001b[0m\n\u001b[0m\u001b[1;32m     49\u001b[0m \u001b[0;34m\u001b[0m\u001b[0m\n",
      "\u001b[0;31mValueError\u001b[0m: Vectorized function sample does not match pandas apply sample.",
      "\nDuring handling of the above exception, another exception occurred:\n",
      "\u001b[0;31mKeyboardInterrupt\u001b[0m                         Traceback (most recent call last)",
      "\u001b[0;32m<ipython-input-31-d5db321ac7c6>\u001b[0m in \u001b[0;36m<module>\u001b[0;34m\u001b[0m\n\u001b[1;32m      1\u001b[0m \u001b[0;32mimport\u001b[0m \u001b[0mswifter\u001b[0m\u001b[0;34m\u001b[0m\u001b[0;34m\u001b[0m\u001b[0m\n\u001b[1;32m      2\u001b[0m \u001b[0;32mfor\u001b[0m \u001b[0mcolumn\u001b[0m \u001b[0;32min\u001b[0m \u001b[0mdomain_config\u001b[0m\u001b[0;34m[\u001b[0m\u001b[0;34m'columns_for_missing_attributes'\u001b[0m\u001b[0;34m]\u001b[0m\u001b[0;34m:\u001b[0m\u001b[0;34m\u001b[0m\u001b[0;34m\u001b[0m\u001b[0m\n\u001b[0;32m----> 3\u001b[0;31m     \u001b[0mtemp_catalog\u001b[0m\u001b[0;34m[\u001b[0m\u001b[0;34mf'{column}_processed'\u001b[0m\u001b[0;34m]\u001b[0m \u001b[0;34m=\u001b[0m \u001b[0mtemp_catalog\u001b[0m\u001b[0;34m.\u001b[0m\u001b[0mswifter\u001b[0m\u001b[0;34m.\u001b[0m\u001b[0mapply\u001b[0m\u001b[0;34m(\u001b[0m\u001b[0;32mlambda\u001b[0m \u001b[0mrow\u001b[0m\u001b[0;34m:\u001b[0m \u001b[0mget_missing_attribute\u001b[0m\u001b[0;34m(\u001b[0m\u001b[0mmodel\u001b[0m\u001b[0;34m[\u001b[0m\u001b[0;34mf'{column}_SVC'\u001b[0m\u001b[0;34m]\u001b[0m\u001b[0;34m,\u001b[0m \u001b[0mrow\u001b[0m\u001b[0;34m[\u001b[0m\u001b[0;34m\"processed_title_final\"\u001b[0m\u001b[0;34m]\u001b[0m\u001b[0;34m,\u001b[0m \u001b[0mrow\u001b[0m\u001b[0;34m[\u001b[0m\u001b[0mcolumn\u001b[0m\u001b[0;34m]\u001b[0m\u001b[0;34m)\u001b[0m\u001b[0;34m,\u001b[0m \u001b[0maxis\u001b[0m \u001b[0;34m=\u001b[0m \u001b[0;36m1\u001b[0m\u001b[0;34m)\u001b[0m\u001b[0;34m\u001b[0m\u001b[0;34m\u001b[0m\u001b[0m\n\u001b[0m\u001b[1;32m      4\u001b[0m     \u001b[0;31m# print(column)\u001b[0m\u001b[0;34m\u001b[0m\u001b[0;34m\u001b[0m\u001b[0;34m\u001b[0m\u001b[0m\n\u001b[1;32m      5\u001b[0m \u001b[0;34m\u001b[0m\u001b[0m\n",
      "\u001b[0;32m~/.local/share/virtualenvs/co-occurrence-gucGsh7Y/lib/python3.8/site-packages/swifter/swifter.py\u001b[0m in \u001b[0;36mapply\u001b[0;34m(self, func, axis, raw, result_type, args, **kwds)\u001b[0m\n\u001b[1;32m    357\u001b[0m                 \u001b[0;32mand\u001b[0m \u001b[0maxis\u001b[0m \u001b[0;34m==\u001b[0m \u001b[0;36m1\u001b[0m\u001b[0;34m\u001b[0m\u001b[0;34m\u001b[0m\u001b[0m\n\u001b[1;32m    358\u001b[0m             ):\n\u001b[0;32m--> 359\u001b[0;31m                 \u001b[0;32mreturn\u001b[0m \u001b[0mself\u001b[0m\u001b[0;34m.\u001b[0m\u001b[0m_dask_apply\u001b[0m\u001b[0;34m(\u001b[0m\u001b[0mfunc\u001b[0m\u001b[0;34m,\u001b[0m \u001b[0maxis\u001b[0m\u001b[0;34m,\u001b[0m \u001b[0mraw\u001b[0m\u001b[0;34m,\u001b[0m \u001b[0mresult_type\u001b[0m\u001b[0;34m,\u001b[0m \u001b[0;34m*\u001b[0m\u001b[0margs\u001b[0m\u001b[0;34m,\u001b[0m \u001b[0;34m**\u001b[0m\u001b[0mkwds\u001b[0m\u001b[0;34m)\u001b[0m\u001b[0;34m\u001b[0m\u001b[0;34m\u001b[0m\u001b[0m\n\u001b[0m\u001b[1;32m    360\u001b[0m             \u001b[0;31m# if not dask, use modin for string processing\u001b[0m\u001b[0;34m\u001b[0m\u001b[0;34m\u001b[0m\u001b[0;34m\u001b[0m\u001b[0m\n\u001b[1;32m    361\u001b[0m             \u001b[0;32melif\u001b[0m \u001b[0;34m(\u001b[0m\u001b[0mest_apply_duration\u001b[0m \u001b[0;34m>\u001b[0m \u001b[0mself\u001b[0m\u001b[0;34m.\u001b[0m\u001b[0m_dask_threshold\u001b[0m\u001b[0;34m)\u001b[0m \u001b[0;32mand\u001b[0m \u001b[0maxis\u001b[0m \u001b[0;34m==\u001b[0m \u001b[0;36m1\u001b[0m\u001b[0;34m:\u001b[0m\u001b[0;34m\u001b[0m\u001b[0;34m\u001b[0m\u001b[0m\n",
      "\u001b[0;32m~/.local/share/virtualenvs/co-occurrence-gucGsh7Y/lib/python3.8/site-packages/swifter/swifter.py\u001b[0m in \u001b[0;36m_dask_apply\u001b[0;34m(self, func, axis, raw, result_type, *args, **kwds)\u001b[0m\n\u001b[1;32m    304\u001b[0m                 \u001b[0;32mwith\u001b[0m \u001b[0mTQDMDaskProgressBar\u001b[0m\u001b[0;34m(\u001b[0m\u001b[0mdesc\u001b[0m\u001b[0;34m=\u001b[0m\u001b[0mself\u001b[0m\u001b[0;34m.\u001b[0m\u001b[0m_progress_bar_desc\u001b[0m \u001b[0;32mor\u001b[0m \u001b[0;34m\"Dask Apply\"\u001b[0m\u001b[0;34m)\u001b[0m\u001b[0;34m:\u001b[0m\u001b[0;34m\u001b[0m\u001b[0;34m\u001b[0m\u001b[0m\n\u001b[1;32m    305\u001b[0m                     return (\n\u001b[0;32m--> 306\u001b[0;31m                         \u001b[0mdd\u001b[0m\u001b[0;34m.\u001b[0m\u001b[0mfrom_pandas\u001b[0m\u001b[0;34m(\u001b[0m\u001b[0mself\u001b[0m\u001b[0;34m.\u001b[0m\u001b[0m_obj\u001b[0m\u001b[0;34m,\u001b[0m \u001b[0mnpartitions\u001b[0m\u001b[0;34m=\u001b[0m\u001b[0mself\u001b[0m\u001b[0;34m.\u001b[0m\u001b[0m_npartitions\u001b[0m\u001b[0;34m)\u001b[0m\u001b[0;34m\u001b[0m\u001b[0;34m\u001b[0m\u001b[0m\n\u001b[0m\u001b[1;32m    307\u001b[0m                         \u001b[0;34m.\u001b[0m\u001b[0mapply\u001b[0m\u001b[0;34m(\u001b[0m\u001b[0mfunc\u001b[0m\u001b[0;34m,\u001b[0m \u001b[0;34m*\u001b[0m\u001b[0margs\u001b[0m\u001b[0;34m,\u001b[0m \u001b[0maxis\u001b[0m\u001b[0;34m=\u001b[0m\u001b[0maxis\u001b[0m\u001b[0;34m,\u001b[0m \u001b[0mraw\u001b[0m\u001b[0;34m=\u001b[0m\u001b[0mraw\u001b[0m\u001b[0;34m,\u001b[0m \u001b[0mresult_type\u001b[0m\u001b[0;34m=\u001b[0m\u001b[0mresult_type\u001b[0m\u001b[0;34m,\u001b[0m \u001b[0mmeta\u001b[0m\u001b[0;34m=\u001b[0m\u001b[0mmeta\u001b[0m\u001b[0;34m,\u001b[0m \u001b[0;34m**\u001b[0m\u001b[0mkwds\u001b[0m\u001b[0;34m)\u001b[0m\u001b[0;34m\u001b[0m\u001b[0;34m\u001b[0m\u001b[0m\n\u001b[1;32m    308\u001b[0m                         \u001b[0;34m.\u001b[0m\u001b[0mcompute\u001b[0m\u001b[0;34m(\u001b[0m\u001b[0mscheduler\u001b[0m\u001b[0;34m=\u001b[0m\u001b[0mself\u001b[0m\u001b[0;34m.\u001b[0m\u001b[0m_scheduler\u001b[0m\u001b[0;34m)\u001b[0m\u001b[0;34m\u001b[0m\u001b[0;34m\u001b[0m\u001b[0m\n",
      "\u001b[0;32m~/.local/share/virtualenvs/co-occurrence-gucGsh7Y/lib/python3.8/site-packages/dask/base.py\u001b[0m in \u001b[0;36mcompute\u001b[0;34m(self, **kwargs)\u001b[0m\n\u001b[1;32m    284\u001b[0m         \u001b[0mdask\u001b[0m\u001b[0;34m.\u001b[0m\u001b[0mbase\u001b[0m\u001b[0;34m.\u001b[0m\u001b[0mcompute\u001b[0m\u001b[0;34m\u001b[0m\u001b[0;34m\u001b[0m\u001b[0m\n\u001b[1;32m    285\u001b[0m         \"\"\"\n\u001b[0;32m--> 286\u001b[0;31m         \u001b[0;34m(\u001b[0m\u001b[0mresult\u001b[0m\u001b[0;34m,\u001b[0m\u001b[0;34m)\u001b[0m \u001b[0;34m=\u001b[0m \u001b[0mcompute\u001b[0m\u001b[0;34m(\u001b[0m\u001b[0mself\u001b[0m\u001b[0;34m,\u001b[0m \u001b[0mtraverse\u001b[0m\u001b[0;34m=\u001b[0m\u001b[0;32mFalse\u001b[0m\u001b[0;34m,\u001b[0m \u001b[0;34m**\u001b[0m\u001b[0mkwargs\u001b[0m\u001b[0;34m)\u001b[0m\u001b[0;34m\u001b[0m\u001b[0;34m\u001b[0m\u001b[0m\n\u001b[0m\u001b[1;32m    287\u001b[0m         \u001b[0;32mreturn\u001b[0m \u001b[0mresult\u001b[0m\u001b[0;34m\u001b[0m\u001b[0;34m\u001b[0m\u001b[0m\n\u001b[1;32m    288\u001b[0m \u001b[0;34m\u001b[0m\u001b[0m\n",
      "\u001b[0;32m~/.local/share/virtualenvs/co-occurrence-gucGsh7Y/lib/python3.8/site-packages/dask/base.py\u001b[0m in \u001b[0;36mcompute\u001b[0;34m(*args, **kwargs)\u001b[0m\n\u001b[1;32m    566\u001b[0m         \u001b[0mpostcomputes\u001b[0m\u001b[0;34m.\u001b[0m\u001b[0mappend\u001b[0m\u001b[0;34m(\u001b[0m\u001b[0mx\u001b[0m\u001b[0;34m.\u001b[0m\u001b[0m__dask_postcompute__\u001b[0m\u001b[0;34m(\u001b[0m\u001b[0;34m)\u001b[0m\u001b[0;34m)\u001b[0m\u001b[0;34m\u001b[0m\u001b[0;34m\u001b[0m\u001b[0m\n\u001b[1;32m    567\u001b[0m \u001b[0;34m\u001b[0m\u001b[0m\n\u001b[0;32m--> 568\u001b[0;31m     \u001b[0mresults\u001b[0m \u001b[0;34m=\u001b[0m \u001b[0mschedule\u001b[0m\u001b[0;34m(\u001b[0m\u001b[0mdsk\u001b[0m\u001b[0;34m,\u001b[0m \u001b[0mkeys\u001b[0m\u001b[0;34m,\u001b[0m \u001b[0;34m**\u001b[0m\u001b[0mkwargs\u001b[0m\u001b[0;34m)\u001b[0m\u001b[0;34m\u001b[0m\u001b[0;34m\u001b[0m\u001b[0m\n\u001b[0m\u001b[1;32m    569\u001b[0m     \u001b[0;32mreturn\u001b[0m \u001b[0mrepack\u001b[0m\u001b[0;34m(\u001b[0m\u001b[0;34m[\u001b[0m\u001b[0mf\u001b[0m\u001b[0;34m(\u001b[0m\u001b[0mr\u001b[0m\u001b[0;34m,\u001b[0m \u001b[0;34m*\u001b[0m\u001b[0ma\u001b[0m\u001b[0;34m)\u001b[0m \u001b[0;32mfor\u001b[0m \u001b[0mr\u001b[0m\u001b[0;34m,\u001b[0m \u001b[0;34m(\u001b[0m\u001b[0mf\u001b[0m\u001b[0;34m,\u001b[0m \u001b[0ma\u001b[0m\u001b[0;34m)\u001b[0m \u001b[0;32min\u001b[0m \u001b[0mzip\u001b[0m\u001b[0;34m(\u001b[0m\u001b[0mresults\u001b[0m\u001b[0;34m,\u001b[0m \u001b[0mpostcomputes\u001b[0m\u001b[0;34m)\u001b[0m\u001b[0;34m]\u001b[0m\u001b[0;34m)\u001b[0m\u001b[0;34m\u001b[0m\u001b[0;34m\u001b[0m\u001b[0m\n\u001b[1;32m    570\u001b[0m \u001b[0;34m\u001b[0m\u001b[0m\n",
      "\u001b[0;32m~/.local/share/virtualenvs/co-occurrence-gucGsh7Y/lib/python3.8/site-packages/dask/multiprocessing.py\u001b[0m in \u001b[0;36mget\u001b[0;34m(dsk, keys, num_workers, func_loads, func_dumps, optimize_graph, pool, chunksize, **kwargs)\u001b[0m\n\u001b[1;32m    217\u001b[0m     \u001b[0;32mtry\u001b[0m\u001b[0;34m:\u001b[0m\u001b[0;34m\u001b[0m\u001b[0;34m\u001b[0m\u001b[0m\n\u001b[1;32m    218\u001b[0m         \u001b[0;31m# Run\u001b[0m\u001b[0;34m\u001b[0m\u001b[0;34m\u001b[0m\u001b[0;34m\u001b[0m\u001b[0m\n\u001b[0;32m--> 219\u001b[0;31m         result = get_async(\n\u001b[0m\u001b[1;32m    220\u001b[0m             \u001b[0mpool\u001b[0m\u001b[0;34m.\u001b[0m\u001b[0msubmit\u001b[0m\u001b[0;34m,\u001b[0m\u001b[0;34m\u001b[0m\u001b[0;34m\u001b[0m\u001b[0m\n\u001b[1;32m    221\u001b[0m             \u001b[0mpool\u001b[0m\u001b[0;34m.\u001b[0m\u001b[0m_max_workers\u001b[0m\u001b[0;34m,\u001b[0m\u001b[0;34m\u001b[0m\u001b[0;34m\u001b[0m\u001b[0m\n",
      "\u001b[0;32m~/.local/share/virtualenvs/co-occurrence-gucGsh7Y/lib/python3.8/site-packages/dask/local.py\u001b[0m in \u001b[0;36mget_async\u001b[0;34m(submit, num_workers, dsk, result, cache, get_id, rerun_exceptions_locally, pack_exception, raise_exception, callbacks, dumps, loads, chunksize, **kwargs)\u001b[0m\n\u001b[1;32m    501\u001b[0m             \u001b[0;32mwhile\u001b[0m \u001b[0mstate\u001b[0m\u001b[0;34m[\u001b[0m\u001b[0;34m\"waiting\"\u001b[0m\u001b[0;34m]\u001b[0m \u001b[0;32mor\u001b[0m \u001b[0mstate\u001b[0m\u001b[0;34m[\u001b[0m\u001b[0;34m\"ready\"\u001b[0m\u001b[0;34m]\u001b[0m \u001b[0;32mor\u001b[0m \u001b[0mstate\u001b[0m\u001b[0;34m[\u001b[0m\u001b[0;34m\"running\"\u001b[0m\u001b[0;34m]\u001b[0m\u001b[0;34m:\u001b[0m\u001b[0;34m\u001b[0m\u001b[0;34m\u001b[0m\u001b[0m\n\u001b[1;32m    502\u001b[0m                 \u001b[0mfire_tasks\u001b[0m\u001b[0;34m(\u001b[0m\u001b[0mchunksize\u001b[0m\u001b[0;34m)\u001b[0m\u001b[0;34m\u001b[0m\u001b[0;34m\u001b[0m\u001b[0m\n\u001b[0;32m--> 503\u001b[0;31m                 \u001b[0;32mfor\u001b[0m \u001b[0mkey\u001b[0m\u001b[0;34m,\u001b[0m \u001b[0mres_info\u001b[0m\u001b[0;34m,\u001b[0m \u001b[0mfailed\u001b[0m \u001b[0;32min\u001b[0m \u001b[0mqueue_get\u001b[0m\u001b[0;34m(\u001b[0m\u001b[0mqueue\u001b[0m\u001b[0;34m)\u001b[0m\u001b[0;34m.\u001b[0m\u001b[0mresult\u001b[0m\u001b[0;34m(\u001b[0m\u001b[0;34m)\u001b[0m\u001b[0;34m:\u001b[0m\u001b[0;34m\u001b[0m\u001b[0;34m\u001b[0m\u001b[0m\n\u001b[0m\u001b[1;32m    504\u001b[0m                     \u001b[0;32mif\u001b[0m \u001b[0mfailed\u001b[0m\u001b[0;34m:\u001b[0m\u001b[0;34m\u001b[0m\u001b[0;34m\u001b[0m\u001b[0m\n\u001b[1;32m    505\u001b[0m                         \u001b[0mexc\u001b[0m\u001b[0;34m,\u001b[0m \u001b[0mtb\u001b[0m \u001b[0;34m=\u001b[0m \u001b[0mloads\u001b[0m\u001b[0;34m(\u001b[0m\u001b[0mres_info\u001b[0m\u001b[0;34m)\u001b[0m\u001b[0;34m\u001b[0m\u001b[0;34m\u001b[0m\u001b[0m\n",
      "\u001b[0;32m~/.local/share/virtualenvs/co-occurrence-gucGsh7Y/lib/python3.8/site-packages/dask/local.py\u001b[0m in \u001b[0;36mqueue_get\u001b[0;34m(q)\u001b[0m\n\u001b[1;32m    132\u001b[0m \u001b[0;34m\u001b[0m\u001b[0m\n\u001b[1;32m    133\u001b[0m     \u001b[0;32mdef\u001b[0m \u001b[0mqueue_get\u001b[0m\u001b[0;34m(\u001b[0m\u001b[0mq\u001b[0m\u001b[0;34m)\u001b[0m\u001b[0;34m:\u001b[0m\u001b[0;34m\u001b[0m\u001b[0;34m\u001b[0m\u001b[0m\n\u001b[0;32m--> 134\u001b[0;31m         \u001b[0;32mreturn\u001b[0m \u001b[0mq\u001b[0m\u001b[0;34m.\u001b[0m\u001b[0mget\u001b[0m\u001b[0;34m(\u001b[0m\u001b[0;34m)\u001b[0m\u001b[0;34m\u001b[0m\u001b[0;34m\u001b[0m\u001b[0m\n\u001b[0m\u001b[1;32m    135\u001b[0m \u001b[0;34m\u001b[0m\u001b[0m\n\u001b[1;32m    136\u001b[0m \u001b[0;34m\u001b[0m\u001b[0m\n",
      "\u001b[0;32m/usr/local/opt/python@3.8/Frameworks/Python.framework/Versions/3.8/lib/python3.8/queue.py\u001b[0m in \u001b[0;36mget\u001b[0;34m(self, block, timeout)\u001b[0m\n\u001b[1;32m    168\u001b[0m             \u001b[0;32melif\u001b[0m \u001b[0mtimeout\u001b[0m \u001b[0;32mis\u001b[0m \u001b[0;32mNone\u001b[0m\u001b[0;34m:\u001b[0m\u001b[0;34m\u001b[0m\u001b[0;34m\u001b[0m\u001b[0m\n\u001b[1;32m    169\u001b[0m                 \u001b[0;32mwhile\u001b[0m \u001b[0;32mnot\u001b[0m \u001b[0mself\u001b[0m\u001b[0;34m.\u001b[0m\u001b[0m_qsize\u001b[0m\u001b[0;34m(\u001b[0m\u001b[0;34m)\u001b[0m\u001b[0;34m:\u001b[0m\u001b[0;34m\u001b[0m\u001b[0;34m\u001b[0m\u001b[0m\n\u001b[0;32m--> 170\u001b[0;31m                     \u001b[0mself\u001b[0m\u001b[0;34m.\u001b[0m\u001b[0mnot_empty\u001b[0m\u001b[0;34m.\u001b[0m\u001b[0mwait\u001b[0m\u001b[0;34m(\u001b[0m\u001b[0;34m)\u001b[0m\u001b[0;34m\u001b[0m\u001b[0;34m\u001b[0m\u001b[0m\n\u001b[0m\u001b[1;32m    171\u001b[0m             \u001b[0;32melif\u001b[0m \u001b[0mtimeout\u001b[0m \u001b[0;34m<\u001b[0m \u001b[0;36m0\u001b[0m\u001b[0;34m:\u001b[0m\u001b[0;34m\u001b[0m\u001b[0;34m\u001b[0m\u001b[0m\n\u001b[1;32m    172\u001b[0m                 \u001b[0;32mraise\u001b[0m \u001b[0mValueError\u001b[0m\u001b[0;34m(\u001b[0m\u001b[0;34m\"'timeout' must be a non-negative number\"\u001b[0m\u001b[0;34m)\u001b[0m\u001b[0;34m\u001b[0m\u001b[0;34m\u001b[0m\u001b[0m\n",
      "\u001b[0;32m/usr/local/opt/python@3.8/Frameworks/Python.framework/Versions/3.8/lib/python3.8/threading.py\u001b[0m in \u001b[0;36mwait\u001b[0;34m(self, timeout)\u001b[0m\n\u001b[1;32m    300\u001b[0m         \u001b[0;32mtry\u001b[0m\u001b[0;34m:\u001b[0m    \u001b[0;31m# restore state no matter what (e.g., KeyboardInterrupt)\u001b[0m\u001b[0;34m\u001b[0m\u001b[0;34m\u001b[0m\u001b[0m\n\u001b[1;32m    301\u001b[0m             \u001b[0;32mif\u001b[0m \u001b[0mtimeout\u001b[0m \u001b[0;32mis\u001b[0m \u001b[0;32mNone\u001b[0m\u001b[0;34m:\u001b[0m\u001b[0;34m\u001b[0m\u001b[0;34m\u001b[0m\u001b[0m\n\u001b[0;32m--> 302\u001b[0;31m                 \u001b[0mwaiter\u001b[0m\u001b[0;34m.\u001b[0m\u001b[0macquire\u001b[0m\u001b[0;34m(\u001b[0m\u001b[0;34m)\u001b[0m\u001b[0;34m\u001b[0m\u001b[0;34m\u001b[0m\u001b[0m\n\u001b[0m\u001b[1;32m    303\u001b[0m                 \u001b[0mgotit\u001b[0m \u001b[0;34m=\u001b[0m \u001b[0;32mTrue\u001b[0m\u001b[0;34m\u001b[0m\u001b[0;34m\u001b[0m\u001b[0m\n\u001b[1;32m    304\u001b[0m             \u001b[0;32melse\u001b[0m\u001b[0;34m:\u001b[0m\u001b[0;34m\u001b[0m\u001b[0;34m\u001b[0m\u001b[0m\n",
      "\u001b[0;31mKeyboardInterrupt\u001b[0m: "
     ]
    }
   ],
   "source": [
    "import swifter\n",
    "for column in domain_config['columns_for_missing_attributes']:\n",
    "    temp_catalog[f'{column}_processed'] = temp_catalog.swifter.apply(lambda row: get_missing_attribute(model[f'{column}_SVC'], row[\"processed_title_final\"], row[column]), axis = 1)\n",
    "    # print(column)\n",
    "\n",
    "# model['New_level1_SVC'].predict('mantra organic clove')"
   ]
  },
  {
   "cell_type": "code",
   "execution_count": null,
   "metadata": {},
   "outputs": [],
   "source": [
    "temp_catalog.columns"
   ]
  },
  {
   "cell_type": "code",
   "execution_count": null,
   "metadata": {},
   "outputs": [],
   "source": [
    "temp_catalog.to_csv('/Users/mukul4.verma/Documents/workspace/catalog_indexer/data/jiomart/processed/processed_catalog.csv', index = False)"
   ]
  },
  {
   "cell_type": "code",
   "execution_count": 16,
   "metadata": {},
   "outputs": [
    {
     "output_type": "execute_result",
     "data": {
      "text/plain": [
       "                                     New Product Name  New_level1  \\\n",
       "60  asian airseal turn lock green plastic jar with...         NaN   \n",
       "61                                  asparagus 1 bunch  vegetables   \n",
       "62                                atul surti biscuits         NaN   \n",
       "63                                    avacado  approx      dummy1   \n",
       "64                  avon haiku perfumed skin softener         NaN   \n",
       "65                         ayur sun screen lotion spf         NaN   \n",
       "66                         ayur sun screen lotion spf         NaN   \n",
       "67                               ayur tulsi face pack         NaN   \n",
       "68                               ayur tulsi face pack         NaN   \n",
       "69               ayush whitening rock salt toothpaste         NaN   \n",
       "70               ayush whitening rock salt toothpaste         NaN   \n",
       "71               ayush whitening rock salt toothpaste         NaN   \n",
       "72                                 baidyanath lohasav         NaN   \n",
       "73                                 baidyanath lohasav         NaN   \n",
       "74      bajaj red ceramic coated aluminium frying pan         NaN   \n",
       "75      bajaj red ceramic coated aluminium frying pan         NaN   \n",
       "76       bambino macaroni mac masala ready in minutes      masala   \n",
       "77                          barilla conchiglie rigate         NaN   \n",
       "78                    batman write and wipe toy board         NaN   \n",
       "79    beckham signature story eau de toilette for men         NaN   \n",
       "\n",
       "     New_level1_processed                   New_level2  \\\n",
       "60  general purpose items                          NaN   \n",
       "61             vegetables                   vegetables   \n",
       "62               biscuits                      cookies   \n",
       "63             vegetables                       dummy2   \n",
       "64                 beauty                    face care   \n",
       "65                lotions                    skin care   \n",
       "66                lotions                    skin care   \n",
       "67        beauty products                    face care   \n",
       "68        beauty products                    face care   \n",
       "69              oral care                    oral care   \n",
       "70              oral care                    oral care   \n",
       "71              oral care                    oral care   \n",
       "72                 health  ayurvedic & herbal products   \n",
       "73                 health  ayurvedic & herbal products   \n",
       "74                 masala                      kitchen   \n",
       "75                 masala                      kitchen   \n",
       "76                 masala             spices & masalas   \n",
       "77                 masala                        pasta   \n",
       "78  general purpose items    office needs & stationary   \n",
       "79              deodorant       deos, talcs & perfumes   \n",
       "\n",
       "           New_level2_processed         New_level3 New_level3_processed  \\\n",
       "60                      kitchen  storage container    storage container   \n",
       "61                   vegetables                NaN           100% juice   \n",
       "62                      cookies            cookies              cookies   \n",
       "63             fresh vegetables             dummy3               garlic   \n",
       "64                    face care             creams               creams   \n",
       "65                    skin care             lotion               lotion   \n",
       "66                    skin care             lotion               lotion   \n",
       "67                    face care                NaN            face wash   \n",
       "68                    face care                NaN            face wash   \n",
       "69                    oral care        toothpastes          toothpastes   \n",
       "70                    oral care        toothpastes          toothpastes   \n",
       "71                    oral care        toothpastes          toothpastes   \n",
       "72  ayurvedic & herbal products                NaN       digestive care   \n",
       "73  ayurvedic & herbal products                NaN       digestive care   \n",
       "74                      kitchen                NaN        kitchen items   \n",
       "75                      kitchen                NaN        kitchen items   \n",
       "76             spices & masalas     blended spices       blended spices   \n",
       "77                        pasta              pasta                pasta   \n",
       "78    office needs & stationary                NaN                 toys   \n",
       "79       deos, talcs & perfumes           perfumes             perfumes   \n",
       "\n",
       "             Valued_level2      Valued_level2_processed  \n",
       "60                     NaN                bathroom ware  \n",
       "61                     NaN                ready to cook  \n",
       "62                     NaN                     biscuits  \n",
       "63                  dummy2             fresh vegetables  \n",
       "64               face care                    face care  \n",
       "65               skin care                    skin care  \n",
       "66               skin care                    skin care  \n",
       "67                     NaN                    face care  \n",
       "68                     NaN                    face care  \n",
       "69               oral care                    oral care  \n",
       "70               oral care                    oral care  \n",
       "71               oral care                    oral care  \n",
       "72                     NaN  ayurvedic & herbal products  \n",
       "73                     NaN  ayurvedic & herbal products  \n",
       "74                     NaN                       snacks  \n",
       "75                     NaN                       snacks  \n",
       "76        spices & masalas             spices & masalas  \n",
       "77                     NaN             spices & masalas  \n",
       "78                     NaN                         toys  \n",
       "79  deos, talcs & perfumes       deos, talcs & perfumes  "
      ],
      "text/html": "<div>\n<style scoped>\n    .dataframe tbody tr th:only-of-type {\n        vertical-align: middle;\n    }\n\n    .dataframe tbody tr th {\n        vertical-align: top;\n    }\n\n    .dataframe thead th {\n        text-align: right;\n    }\n</style>\n<table border=\"1\" class=\"dataframe\">\n  <thead>\n    <tr style=\"text-align: right;\">\n      <th></th>\n      <th>New Product Name</th>\n      <th>New_level1</th>\n      <th>New_level1_processed</th>\n      <th>New_level2</th>\n      <th>New_level2_processed</th>\n      <th>New_level3</th>\n      <th>New_level3_processed</th>\n      <th>Valued_level2</th>\n      <th>Valued_level2_processed</th>\n    </tr>\n  </thead>\n  <tbody>\n    <tr>\n      <th>60</th>\n      <td>asian airseal turn lock green plastic jar with...</td>\n      <td>NaN</td>\n      <td>general purpose items</td>\n      <td>NaN</td>\n      <td>kitchen</td>\n      <td>storage container</td>\n      <td>storage container</td>\n      <td>NaN</td>\n      <td>bathroom ware</td>\n    </tr>\n    <tr>\n      <th>61</th>\n      <td>asparagus 1 bunch</td>\n      <td>vegetables</td>\n      <td>vegetables</td>\n      <td>vegetables</td>\n      <td>vegetables</td>\n      <td>NaN</td>\n      <td>100% juice</td>\n      <td>NaN</td>\n      <td>ready to cook</td>\n    </tr>\n    <tr>\n      <th>62</th>\n      <td>atul surti biscuits</td>\n      <td>NaN</td>\n      <td>biscuits</td>\n      <td>cookies</td>\n      <td>cookies</td>\n      <td>cookies</td>\n      <td>cookies</td>\n      <td>NaN</td>\n      <td>biscuits</td>\n    </tr>\n    <tr>\n      <th>63</th>\n      <td>avacado  approx</td>\n      <td>dummy1</td>\n      <td>vegetables</td>\n      <td>dummy2</td>\n      <td>fresh vegetables</td>\n      <td>dummy3</td>\n      <td>garlic</td>\n      <td>dummy2</td>\n      <td>fresh vegetables</td>\n    </tr>\n    <tr>\n      <th>64</th>\n      <td>avon haiku perfumed skin softener</td>\n      <td>NaN</td>\n      <td>beauty</td>\n      <td>face care</td>\n      <td>face care</td>\n      <td>creams</td>\n      <td>creams</td>\n      <td>face care</td>\n      <td>face care</td>\n    </tr>\n    <tr>\n      <th>65</th>\n      <td>ayur sun screen lotion spf</td>\n      <td>NaN</td>\n      <td>lotions</td>\n      <td>skin care</td>\n      <td>skin care</td>\n      <td>lotion</td>\n      <td>lotion</td>\n      <td>skin care</td>\n      <td>skin care</td>\n    </tr>\n    <tr>\n      <th>66</th>\n      <td>ayur sun screen lotion spf</td>\n      <td>NaN</td>\n      <td>lotions</td>\n      <td>skin care</td>\n      <td>skin care</td>\n      <td>lotion</td>\n      <td>lotion</td>\n      <td>skin care</td>\n      <td>skin care</td>\n    </tr>\n    <tr>\n      <th>67</th>\n      <td>ayur tulsi face pack</td>\n      <td>NaN</td>\n      <td>beauty products</td>\n      <td>face care</td>\n      <td>face care</td>\n      <td>NaN</td>\n      <td>face wash</td>\n      <td>NaN</td>\n      <td>face care</td>\n    </tr>\n    <tr>\n      <th>68</th>\n      <td>ayur tulsi face pack</td>\n      <td>NaN</td>\n      <td>beauty products</td>\n      <td>face care</td>\n      <td>face care</td>\n      <td>NaN</td>\n      <td>face wash</td>\n      <td>NaN</td>\n      <td>face care</td>\n    </tr>\n    <tr>\n      <th>69</th>\n      <td>ayush whitening rock salt toothpaste</td>\n      <td>NaN</td>\n      <td>oral care</td>\n      <td>oral care</td>\n      <td>oral care</td>\n      <td>toothpastes</td>\n      <td>toothpastes</td>\n      <td>oral care</td>\n      <td>oral care</td>\n    </tr>\n    <tr>\n      <th>70</th>\n      <td>ayush whitening rock salt toothpaste</td>\n      <td>NaN</td>\n      <td>oral care</td>\n      <td>oral care</td>\n      <td>oral care</td>\n      <td>toothpastes</td>\n      <td>toothpastes</td>\n      <td>oral care</td>\n      <td>oral care</td>\n    </tr>\n    <tr>\n      <th>71</th>\n      <td>ayush whitening rock salt toothpaste</td>\n      <td>NaN</td>\n      <td>oral care</td>\n      <td>oral care</td>\n      <td>oral care</td>\n      <td>toothpastes</td>\n      <td>toothpastes</td>\n      <td>oral care</td>\n      <td>oral care</td>\n    </tr>\n    <tr>\n      <th>72</th>\n      <td>baidyanath lohasav</td>\n      <td>NaN</td>\n      <td>health</td>\n      <td>ayurvedic &amp; herbal products</td>\n      <td>ayurvedic &amp; herbal products</td>\n      <td>NaN</td>\n      <td>digestive care</td>\n      <td>NaN</td>\n      <td>ayurvedic &amp; herbal products</td>\n    </tr>\n    <tr>\n      <th>73</th>\n      <td>baidyanath lohasav</td>\n      <td>NaN</td>\n      <td>health</td>\n      <td>ayurvedic &amp; herbal products</td>\n      <td>ayurvedic &amp; herbal products</td>\n      <td>NaN</td>\n      <td>digestive care</td>\n      <td>NaN</td>\n      <td>ayurvedic &amp; herbal products</td>\n    </tr>\n    <tr>\n      <th>74</th>\n      <td>bajaj red ceramic coated aluminium frying pan</td>\n      <td>NaN</td>\n      <td>masala</td>\n      <td>kitchen</td>\n      <td>kitchen</td>\n      <td>NaN</td>\n      <td>kitchen items</td>\n      <td>NaN</td>\n      <td>snacks</td>\n    </tr>\n    <tr>\n      <th>75</th>\n      <td>bajaj red ceramic coated aluminium frying pan</td>\n      <td>NaN</td>\n      <td>masala</td>\n      <td>kitchen</td>\n      <td>kitchen</td>\n      <td>NaN</td>\n      <td>kitchen items</td>\n      <td>NaN</td>\n      <td>snacks</td>\n    </tr>\n    <tr>\n      <th>76</th>\n      <td>bambino macaroni mac masala ready in minutes</td>\n      <td>masala</td>\n      <td>masala</td>\n      <td>spices &amp; masalas</td>\n      <td>spices &amp; masalas</td>\n      <td>blended spices</td>\n      <td>blended spices</td>\n      <td>spices &amp; masalas</td>\n      <td>spices &amp; masalas</td>\n    </tr>\n    <tr>\n      <th>77</th>\n      <td>barilla conchiglie rigate</td>\n      <td>NaN</td>\n      <td>masala</td>\n      <td>pasta</td>\n      <td>pasta</td>\n      <td>pasta</td>\n      <td>pasta</td>\n      <td>NaN</td>\n      <td>spices &amp; masalas</td>\n    </tr>\n    <tr>\n      <th>78</th>\n      <td>batman write and wipe toy board</td>\n      <td>NaN</td>\n      <td>general purpose items</td>\n      <td>office needs &amp; stationary</td>\n      <td>office needs &amp; stationary</td>\n      <td>NaN</td>\n      <td>toys</td>\n      <td>NaN</td>\n      <td>toys</td>\n    </tr>\n    <tr>\n      <th>79</th>\n      <td>beckham signature story eau de toilette for men</td>\n      <td>NaN</td>\n      <td>deodorant</td>\n      <td>deos, talcs &amp; perfumes</td>\n      <td>deos, talcs &amp; perfumes</td>\n      <td>perfumes</td>\n      <td>perfumes</td>\n      <td>deos, talcs &amp; perfumes</td>\n      <td>deos, talcs &amp; perfumes</td>\n    </tr>\n  </tbody>\n</table>\n</div>"
     },
     "metadata": {},
     "execution_count": 16
    }
   ],
   "source": [
    "temp_catalog[['New Product Name']+sorted([column for column in temp_catalog.columns if \"level\" in column])]"
   ]
  },
  {
   "cell_type": "code",
   "execution_count": null,
   "metadata": {},
   "outputs": [],
   "source": []
  },
  {
   "cell_type": "code",
   "execution_count": 61,
   "metadata": {},
   "outputs": [
    {
     "output_type": "execute_result",
     "data": {
      "text/plain": [
       "'24 mantra organic clove'"
      ]
     },
     "metadata": {},
     "execution_count": 61
    }
   ],
   "source": [
    "tp.clean_text(\"24 mantra organic cloves\")"
   ]
  },
  {
   "cell_type": "code",
   "execution_count": 141,
   "metadata": {},
   "outputs": [
    {
     "output_type": "execute_result",
     "data": {
      "text/plain": [
       "['agriculture products',\n",
       " 'antiperspirant',\n",
       " 'apparel',\n",
       " 'atta',\n",
       " 'baby',\n",
       " 'bakery',\n",
       " 'beauty',\n",
       " 'beauty products',\n",
       " 'beverages',\n",
       " 'biscuits',\n",
       " 'bread',\n",
       " 'breakfast',\n",
       " 'canned food',\n",
       " 'chicken',\n",
       " 'chocolates',\n",
       " 'cleaning',\n",
       " 'cocoa',\n",
       " 'coffee',\n",
       " 'confectionery',\n",
       " 'consumable',\n",
       " 'cookies',\n",
       " 'crop management products',\n",
       " 'crop protection',\n",
       " 'dairy',\n",
       " 'dals',\n",
       " 'deodorant',\n",
       " 'dry fruits & nuts',\n",
       " 'dummy1',\n",
       " 'edta chelates',\n",
       " 'feminine needs',\n",
       " 'foodgrains',\n",
       " 'freshline',\n",
       " 'frozen vegetarian',\n",
       " 'general purpose items',\n",
       " 'ghee',\n",
       " 'health',\n",
       " 'health drinks',\n",
       " 'home',\n",
       " 'home care',\n",
       " 'hygiene',\n",
       " 'instant',\n",
       " 'laundry supplies',\n",
       " 'living',\n",
       " 'loose items',\n",
       " 'lotions',\n",
       " 'makeup',\n",
       " 'marka',\n",
       " 'marketing material',\n",
       " 'masala',\n",
       " 'masalas',\n",
       " 'micronutrient',\n",
       " 'milk',\n",
       " 'mom',\n",
       " 'noodles',\n",
       " 'oils',\n",
       " 'oral care',\n",
       " 'other plant nutrients',\n",
       " 'personal hygiene',\n",
       " 'pickles',\n",
       " 'rice',\n",
       " 'salt',\n",
       " 'sauces',\n",
       " 'secondary nutrients',\n",
       " 'secondary plant nutrients',\n",
       " 'sexual wellness',\n",
       " 'shaving products',\n",
       " 'snacks',\n",
       " 'soaps',\n",
       " 'specialty nutrients',\n",
       " 'spices',\n",
       " 'sugar',\n",
       " 'sweets',\n",
       " 'tea',\n",
       " 'tobacco',\n",
       " 'veg seed',\n",
       " 'vegetables',\n",
       " 'water',\n",
       " 'welcome gift',\n",
       " 'wellness']"
      ]
     },
     "metadata": {},
     "execution_count": 141
    }
   ],
   "source": [
    "# sorted(list(catalog['New_level1'].dropna().unique()))"
   ]
  },
  {
   "cell_type": "code",
   "execution_count": 17,
   "metadata": {},
   "outputs": [],
   "source": [
    "# catalog[catalog['Valued_level2'] == 'rice'][['New Product Name','Valued_level2']]"
   ]
  },
  {
   "cell_type": "code",
   "execution_count": 66,
   "metadata": {},
   "outputs": [
    {
     "output_type": "execute_result",
     "data": {
      "text/plain": [
       "                                         New Product Name  Valued_level2\n",
       "142                     conscious food organic wheat atta  atta & flours\n",
       "231                                        fps lapsi rawa  atta & flours\n",
       "295                           good life mp sharbatti atta  atta & flours\n",
       "296                           good life mp sharbatti atta  atta & flours\n",
       "496                                       maayi appa soda  atta & flours\n",
       "...                                                   ...            ...\n",
       "120922                                   anil samba ravai  atta & flours\n",
       "121019  double horse appam idiyappam pathiri roasted r...  atta & flours\n",
       "121372  bhagirathi kulith pith horse gram flour ready mix  atta & flours\n",
       "121668                          reliance select idly rawa  atta & flours\n",
       "121677                           sakas aromatic rice atta  atta & flours\n",
       "\n",
       "[1705 rows x 2 columns]"
      ],
      "text/html": "<div>\n<style scoped>\n    .dataframe tbody tr th:only-of-type {\n        vertical-align: middle;\n    }\n\n    .dataframe tbody tr th {\n        vertical-align: top;\n    }\n\n    .dataframe thead th {\n        text-align: right;\n    }\n</style>\n<table border=\"1\" class=\"dataframe\">\n  <thead>\n    <tr style=\"text-align: right;\">\n      <th></th>\n      <th>New Product Name</th>\n      <th>Valued_level2</th>\n    </tr>\n  </thead>\n  <tbody>\n    <tr>\n      <th>142</th>\n      <td>conscious food organic wheat atta</td>\n      <td>atta &amp; flours</td>\n    </tr>\n    <tr>\n      <th>231</th>\n      <td>fps lapsi rawa</td>\n      <td>atta &amp; flours</td>\n    </tr>\n    <tr>\n      <th>295</th>\n      <td>good life mp sharbatti atta</td>\n      <td>atta &amp; flours</td>\n    </tr>\n    <tr>\n      <th>296</th>\n      <td>good life mp sharbatti atta</td>\n      <td>atta &amp; flours</td>\n    </tr>\n    <tr>\n      <th>496</th>\n      <td>maayi appa soda</td>\n      <td>atta &amp; flours</td>\n    </tr>\n    <tr>\n      <th>...</th>\n      <td>...</td>\n      <td>...</td>\n    </tr>\n    <tr>\n      <th>120922</th>\n      <td>anil samba ravai</td>\n      <td>atta &amp; flours</td>\n    </tr>\n    <tr>\n      <th>121019</th>\n      <td>double horse appam idiyappam pathiri roasted r...</td>\n      <td>atta &amp; flours</td>\n    </tr>\n    <tr>\n      <th>121372</th>\n      <td>bhagirathi kulith pith horse gram flour ready mix</td>\n      <td>atta &amp; flours</td>\n    </tr>\n    <tr>\n      <th>121668</th>\n      <td>reliance select idly rawa</td>\n      <td>atta &amp; flours</td>\n    </tr>\n    <tr>\n      <th>121677</th>\n      <td>sakas aromatic rice atta</td>\n      <td>atta &amp; flours</td>\n    </tr>\n  </tbody>\n</table>\n<p>1705 rows × 2 columns</p>\n</div>"
     },
     "metadata": {},
     "execution_count": 66
    }
   ],
   "source": [
    "catalog[catalog['Valued_level2'] == 'atta & flours'][['New Product Name','Valued_level2']]"
   ]
  },
  {
   "cell_type": "code",
   "execution_count": 26,
   "metadata": {},
   "outputs": [
    {
     "output_type": "stream",
     "name": "stdout",
     "text": [
      "milk                         18\nedta chelates                15\nrice                         15\nsugar                        14\nwater                        14\nsalt                         13\ntobacco                      12\ncrop management products      5\nmicronutrient                 5\nwelcome gift                  5\nagriculture products          5\nghee                          4\nsecondary plant nutrients     3\nconfectionery                 3\nspecialty nutrients           3\nsexual wellness               2\nother plant nutrients         2\nsecondary nutrients           2\ncrop protection               2\nsweets                        2\ncocoa                         2\nbreakfast                     1\nmarka                         1\nmarketing material            1\ncanned food                   1\nfoodgrains                    1\nveg seed                      1\ncookies                       1\nconsumable                    1\nantiperspirant                1\nName: New_level1, dtype: int64\n"
     ]
    }
   ],
   "source": [
    "print(catalog['New_level1'].value_counts().tail(30))"
   ]
  },
  {
   "cell_type": "code",
   "execution_count": 28,
   "metadata": {},
   "outputs": [
    {
     "output_type": "stream",
     "name": "stdout",
     "text": [
      "masala                   7780\nsnacks                   4329\noils                     2064\ndummy1                   1861\nhome                     1612\nbaby                      847\ninstant                   667\nbakery                    617\nhygiene                   558\ndairy                     479\nhealth drinks             425\ngeneral purpose items     403\nbeauty                    280\nloose items               253\nvegetables                253\nhome care                 207\nsoaps                     170\nbiscuits                  158\nsauces                    148\nliving                    146\ndeodorant                 141\nwellness                  136\nmasalas                   114\nmom                       108\ndry fruits & nuts         100\napparel                    99\nmakeup                     97\nchocolates                 96\nbeauty products            86\noral care                  86\ncleaning                   85\nhealth                     82\nfrozen vegetarian          73\ncoffee                     67\ndals                       63\nlaundry supplies           63\nspices                     62\nlotions                    55\nshaving products           50\nbread                      31\npersonal hygiene           28\natta                       27\nnoodles                    26\npickles                    26\nfeminine needs             24\ntea                        23\nbeverages                  22\nchicken                    21\nfreshline                  20\nmilk                       18\nName: New_level1, dtype: int64\n"
     ]
    }
   ],
   "source": [
    "print(catalog['New_level1'].value_counts().head(50))"
   ]
  },
  {
   "cell_type": "code",
   "execution_count": null,
   "metadata": {},
   "outputs": [],
   "source": []
  }
 ]
}